{
  "metadata": {
    "celltoolbar": "Edit Metadata",
    "colab": {
      "collapsed_sections": [],
      "provenance": [],
      "include_colab_link": true
    },
    "kernelspec": {
      "display_name": "Python 3 (ipykernel)",
      "language": "python",
      "name": "python3"
    },
    "language_info": {
      "codemirror_mode": {
        "name": "ipython",
        "version": 3
      },
      "file_extension": ".py",
      "mimetype": "text/x-python",
      "name": "python",
      "nbconvert_exporter": "python",
      "pygments_lexer": "ipython3",
      "version": "3.9.13"
    }
  },
  "nbformat": 4,
  "nbformat_minor": 0,
  "cells": [
    {
      "cell_type": "markdown",
      "metadata": {
        "id": "view-in-github",
        "colab_type": "text"
      },
      "source": [
        "<a href=\"https://colab.research.google.com/github/c-wegman/ABW/blob/main/ABW_2022_Assignment_6.ipynb\" target=\"_parent\"><img src=\"https://colab.research.google.com/assets/colab-badge.svg\" alt=\"Open In Colab\"/></a>"
      ]
    },
    {
      "cell_type": "code",
      "execution_count": 1,
      "source": [
        "# Run this cell first!\n",
        "class _CgAnswers: ...\n",
        "answers = _CgAnswers()\n"
      ],
      "outputs": [],
      "metadata": {
        "trusted": true,
        "editable": false,
        "deletable": false,
        "id": "h_1fLmlN-WxV"
      }
    },
    {
      "cell_type": "markdown",
      "metadata": {
        "id": "Am9ecw9yWv96",
        "nbgrader": {
          "grade": false,
          "grade_id": "cell-48f3558955bbd1c0",
          "locked": true,
          "schema_version": 3,
          "solution": false,
          "task": false
        },
        "trusted": true,
        "editable": false,
        "deletable": false
      },
      "source": [
        "# Analytics for a better world\n",
        "## Assignment 6: Linear programming (with indexed variables)"
      ]
    },
    {
      "cell_type": "markdown",
      "metadata": {
        "id": "xg2v6bkkP3rg",
        "trusted": true,
        "editable": false,
        "deletable": false
      },
      "source": [
        "* This assignment is made for auto-grading with CodeGrade in Canvas\n",
        "* Write your code\n",
        "* **NEVER TOUCH THE CODE WHERE IT IS MARKED \"DO NOT CHANGE\"**\n",
        "* Submit through Canvas: [Link](https://canvas.uva.nl/courses/32521/assignments/362161)\n",
        "* Check the feedback"
      ]
    },
    {
      "cell_type": "code",
      "execution_count": null,
      "metadata": {
        "id": "Gtl3JSUX-Wxb"
      },
      "outputs": [],
      "source": [
        "# DO NOT CHANGE\n",
        "import sys\n",
        "at_colab = \"google.colab\" in sys.modules\n",
        "\n",
        "if at_colab:\n",
        "    import shutil\n",
        "    if not shutil.which(\"pyomo\"):\n",
        "        !pip install -q pyomo\n",
        "        assert(shutil.which(\"pyomo\"))"
      ]
    },
    {
      "cell_type": "markdown",
      "metadata": {
        "tags": [],
        "trusted": true,
        "editable": false,
        "deletable": false,
        "id": "-r5t50xc-Wxc"
      },
      "source": [
        "# Question 1 - Larry Edison (5 points)"
      ]
    },
    {
      "cell_type": "markdown",
      "metadata": {
        "trusted": true,
        "editable": false,
        "deletable": false,
        "id": "-ypaB5VH-Wxd"
      },
      "source": [
        "Consider the exercise 3.4-8 of the book by Hillier and Lieberman:\n",
        "\n",
        "Larry Edison is the director of the Computer Center for Buckly College. He now needs to schedule the staffing of the center. It is open from 8 AM until midnight. Larry has monitored the usage of the center at various times of the day, and determined that the following number of computer consultants are required:\n",
        "\n",
        "| Shift |Time of Day | Minimum Number of Consultants |\n",
        "|-------|------------|-------------------------------|\n",
        "|   A   |8 AM - noon | 4 |\n",
        "|   B   |Noon - 4 PM | 8 |\n",
        "|   C   |4 PM - 8 PM | 10 |\n",
        "|   D   |8 PM - midnight | 6 |\n",
        "\n",
        "Two types of computer consultants can be hired: full-time and part-time. The full-time consultants work for 8 consecutive hours in any of the following shifts: morning (8 AM - 4 PM), afternoon (noon - 8 PM), and evening  (4 PM - midnight). Full-time consultants are paid €40 per hour. Part-time consultants can be hired to work any of the four shifts listed in the table above. Part-time consultants are paid €30 per hour. An additional requirement is that during every time period, there must be at least two full-time consultants on duty for every part-time consultant on duty.\n",
        "\n",
        "Larry would like to determine how many full-time and how many part-time workers should work each shift to meet the above requirements at the minimum possible cost. Formulate a linear programming model with indexed variables, and solve it using Pyomo. Make sure that the solution can only take integer values, since it is not possible to hire a worker for only part of a shift.\n",
        "\n",
        "Write a function:\n",
        "* named `model_larry_edison`, with no arguments\n",
        "* returning a pyomo model\n",
        "* The model should have:\n",
        "    * one objective, named `wage`, minimizing the amount of wage that has to be paid.\n",
        "    * two variables: \n",
        "        * `full_time` with three indices, one for each full time shift, indicating how many full-time workers are on duty during that shift.\n",
        "        * `part_time` with four indices, one for each part time shift, indicating how many part-time workers are on duty during that shift.\n",
        "    * eight constraints\n",
        "        * four (`A_total`, `B_total`, `C_total`, `D_total`) making sure the number of required consultants is satisfied for each 4-hour shift.\n",
        "        * four (`A_ratio`, `B_ratio`, `C_ratio`, `D_ratio`) making sure that at each 4-hour shift, the number of full time consultants is at least twice the number of part time consultants.\n",
        "    \n",
        "**POINTS** \n",
        "* Correctly defining the objective function: 1 point\n",
        "* Correctly defining the constraints: 1 point\n",
        "* Getting the expected solution when solving the model: 3 points"
      ]
    },
    {
      "cell_type": "code",
      "execution_count": null,
      "metadata": {
        "tags": [],
        "id": "pPU2_A2F-Wxe"
      },
      "outputs": [],
      "source": [
        "# DO NOT CHANGE\n",
        "import pyomo.environ as pyo"
      ]
    },
    {
      "cell_type": "code",
      "execution_count": null,
      "metadata": {
        "id": "JGpgxdt7CsjH",
        "nbgrader": {
          "grade": false,
          "grade_id": "cell-9bd844c85ce879f1",
          "locked": true,
          "schema_version": 3,
          "solution": false,
          "task": false
        }
      },
      "outputs": [],
      "source": [
        "### BEGIN SOLUTION\n",
        "### END SOLUTION"
      ]
    },
    {
      "cell_type": "code",
      "execution_count": null,
      "metadata": {
        "deletable": false,
        "tags": [],
        "id": "YK7YSDiu-Wxg"
      },
      "outputs": [],
      "source": [
        "# DO NOT CHANGE \n",
        "answers.Q1_obj = model_larry_edison\n",
        "answers.Q1_con = model_larry_edison\n",
        "answers.Q1_out = model_larry_edison"
      ]
    },
    {
      "cell_type": "markdown",
      "metadata": {
        "trusted": true,
        "editable": false,
        "deletable": false,
        "id": "4V_vcWg5-Wxh"
      },
      "source": [
        "# Question 2 - Oxbridge (5 points)"
      ]
    },
    {
      "cell_type": "markdown",
      "metadata": {
        "trusted": true,
        "editable": false,
        "deletable": false,
        "id": "mhjcMMG_-Wxi"
      },
      "source": [
        "Consider the exercise 3.4-14 of the book by Hillier and Lieberman:\n",
        "\n",
        "Oxbridge University maintains a powerful mainframe computer for research use by its faculty, Ph.D. students, and research associates. During all working hours, an operator must be available to operate and maintain the computer, as well as to perform some programming services. Beryl Ingram, the director of the computer facility, oversees the operation. It is now the beginning of the fall semester, and Beryl is confronted with the problem of assigning different working hours to her operators. Because all the operators are currently enrolled in the university, they are available to work only a limited number of hours each day. The table below shows, for each operator, both the wage per hour and the maximum number of working hours that the operator is available per week.\n",
        "\n",
        "| Operators | Wage Rate | Mon. | Tue. | Wed. | Thurs. | Fri. |\n",
        "|-----------|-----------|------|------|------|--------|------|\n",
        "| K.C.     | €25 / hour  |  6   |  0   |  6   |  0     |  6   |\n",
        "| D.H.     | €26 / hour  |  0   |  6   |  0   |  6     |  0   |\n",
        "| H.B.     | €24 / hour  |  4   |  8   |  4   |  0     |  4   |\n",
        "| S.C.     | €23 / hour  |  5   |  5   |  5   |  0     |  5   |\n",
        "| K.S.     | €28 / hour  |  3   |  0   |  3   |  8     |  0   |\n",
        "| N.K.     | €30 / hour  |  0   |  0   |  0   |  6     |  2   |\n",
        "\n",
        "\n",
        "There are six operators (four undergraduate students and two graduate students). They all have different wage rates because of differences in their experience with computers and in their programming ability. Each operator is guaranteed a certain minimum number of hours per week that will maintain an adequate knowledge of the operation. This level is set at 8 hours per week for the undergraduate students (K.C., D.H., H.B., and S.C.) and 7 hours per week for the graduate students (K.S. and N.K.). The computer facility is to be open for operation from 8 AM to 10 PM Monday through Friday with exactly one operator on duty during each of these hours. Because of a tight budget, Beryl has to minimize cost. She wishes to determine the number of hours she should assign to each operator on each day. Formulate a linear programming model for this problem.\n",
        "\n",
        "Write a function:\n",
        "* named `model_oxbridge`, with no arguments\n",
        "* returning a pyomo model\n",
        "* The model should have:\n",
        "    * one indexed variable named `x`, stating the number of hours per day that each operator should be on duty.\n",
        "        * Make sure that this variable is indexed first by the operator names (K.C., D.H., etc.), and then by the days (Mon, Tue, etc.). These names should be equal to the index- and column names in the `data` table as defined in the next cell.\n",
        "    * two indexed constraints\n",
        "        * `min_hours`: make sure each operator is working their minimal number of hours.\n",
        "        * `day_total`: make sure the total number of hours worked each day is exactly 14 hours (8 AM to 10 PM).\n",
        "    * one objective, named `wage`.\n",
        "\n",
        "**POINTS** \n",
        "* Correctly defining the objective function: 1 point\n",
        "* Correctly defining the constraints: 2 points\n",
        "* Getting the expected solution when solving the model: 2 points\n",
        "\n",
        "**POINTS** \n",
        "* Correctly defining the objective function: 1 point\n",
        "* Correctly defining the constraints: 2 points\n",
        "* Getting the expected solution when solving the model: 2 points"
      ]
    },
    {
      "cell_type": "code",
      "execution_count": null,
      "metadata": {
        "tags": [],
        "id": "ebAkqRY7-Wxj"
      },
      "outputs": [],
      "source": [
        "# DO NOT CHANGE\n",
        "import pyomo.environ as pyo\n",
        "import pandas as pd\n",
        "from io import StringIO\n",
        "\n",
        "data = StringIO('''Operator;Wage;Mon;Tue;Wed;Thu;Fri;MinHours\n",
        "K.C.; 25 ; 6 ; 0 ; 6 ; 0 ; 6 ; 8\n",
        "D.H.; 26 ; 0 ; 6 ; 0 ; 6 ; 0 ; 8\n",
        "H.B.; 24 ; 4 ; 8 ; 4 ; 0 ; 4 ; 8\n",
        "S.C.; 23 ; 5 ; 5 ; 5 ; 0 ; 5 ; 8\n",
        "K.S.; 28 ; 3 ; 0 ; 3 ; 8 ; 0 ; 7\n",
        "N.K.; 30 ; 0 ; 0 ; 0 ; 6 ; 2 ; 7 ''')\n",
        "\n",
        "df = pd.read_csv(data, sep=\";\", index_col='Operator')\n",
        "days = ['Mon','Tue','Wed','Thu','Fri']\n",
        "df[days] = df[days].astype(float)"
      ]
    },
    {
      "cell_type": "code",
      "execution_count": null,
      "metadata": {
        "id": "pJJT3e_4-Wxj"
      },
      "outputs": [],
      "source": [
        "### BEGIN SOLUTION\n",
        "### END SOLUTION"
      ]
    },
    {
      "cell_type": "code",
      "execution_count": null,
      "metadata": {
        "deletable": false,
        "tags": [],
        "id": "d2PdfhQV-Wxk"
      },
      "outputs": [],
      "source": [
        "# DO NOT CHANGE \n",
        "answers.Q2_obj = model_oxbridge\n",
        "answers.Q2_con = model_oxbridge\n",
        "answers.Q2_out = model_oxbridge"
      ]
    }
  ]
}