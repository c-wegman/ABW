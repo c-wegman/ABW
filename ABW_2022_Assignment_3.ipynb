{
  "metadata": {
    "colab": {
      "collapsed_sections": [],
      "provenance": [],
      "include_colab_link": true
    },
    "kernelspec": {
      "display_name": "Python 3 (ipykernel)",
      "language": "python",
      "name": "python3"
    },
    "language_info": {
      "codemirror_mode": {
        "name": "ipython",
        "version": 3
      },
      "file_extension": ".py",
      "mimetype": "text/x-python",
      "name": "python",
      "nbconvert_exporter": "python",
      "pygments_lexer": "ipython3",
      "version": "3.9.7"
    }
  },
  "nbformat": 4,
  "nbformat_minor": 0,
  "cells": [
    {
      "cell_type": "markdown",
      "metadata": {
        "id": "view-in-github",
        "colab_type": "text"
      },
      "source": [
        "<a href=\"https://colab.research.google.com/github/c-wegman/ABW/blob/main/ABW_2022_Assignment_3.ipynb\" target=\"_parent\"><img src=\"https://colab.research.google.com/assets/colab-badge.svg\" alt=\"Open In Colab\"/></a>"
      ]
    },
    {
      "cell_type": "code",
      "execution_count": 1,
      "source": [
        "# DO NOT CHANGE\n",
        "# Run this cell first!\n",
        "class _CgAnswers: ...\n",
        "answers = _CgAnswers()\n"
      ],
      "outputs": [],
      "metadata": {
        "trusted": true,
        "editable": false,
        "deletable": false,
        "id": "-TZbYh9CLZg2"
      }
    },
    {
      "cell_type": "markdown",
      "metadata": {
        "id": "aPvP6C67e-5w",
        "trusted": true,
        "editable": false,
        "deletable": false
      },
      "source": [
        "# Analytics for a better world\n",
        "## Assignment 3: Linear Regression\n",
        "Hint: you may want to have a look at the resolution for exercise 2.10 [here](https://colab.research.google.com/drive/1u_9tzBpNf0N9btt1Ia174b5vYkHWo-Fz)"
      ]
    },
    {
      "cell_type": "markdown",
      "metadata": {
        "id": "tVEpWnwOfCtf",
        "trusted": true,
        "editable": false,
        "deletable": false
      },
      "source": [
        "___\n",
        "\n",
        "\n",
        "* This assignment is made for auto-grading with CodeGrade in Canvas\n",
        "* Write your code\n",
        "* **NEVER TOUCH THE CODE WHERE IT IS MARKED \"DO NOT CHANGE\"**\n",
        "* Submit through Canvas: [Link](https://canvas.uva.nl/courses/32521/assignments/362980)\n",
        "* Check the feedback"
      ]
    },
    {
      "cell_type": "markdown",
      "metadata": {
        "id": "eUtMYtarf8kQ",
        "trusted": true,
        "editable": false,
        "deletable": false
      },
      "source": [
        "# Question 1 (5 points)\n",
        "\n",
        "For this question we ask you to construct a linear regression model for capturing the relationship between the battery life of a device and the temperature. Imagine a company that manufactures an electronic device to be used in a very wide temperature range. The company knows that increased temperature shortens the battery life time of the device, and a study is therefore performed in which the battery life is determined as a function of temperature. The following data is available:\n",
        "\n",
        "Temperature ($^\\circ C$)  | Battery life of device (days)\n",
        "-------------------|------------------\n",
        "10       | 421\n",
        "20       | 365\n",
        "30       | 285\n",
        "40       | 220\n",
        "50       | 176\n",
        "60       | 117\n",
        "70       | 68\n",
        "80       | 34\n",
        "90       | 5\n",
        "\n",
        "Thus, we would like to predict the battery life ($y$) by using the temperature ($x$). The linear regression model would take on the following form: \n",
        "### $\\hat{y} = \\beta_0 + \\beta_1 x$\n"
      ]
    },
    {
      "cell_type": "markdown",
      "metadata": {
        "id": "7Gc_8UeJf_dY",
        "trusted": true,
        "editable": false,
        "deletable": false
      },
      "source": [
        "We want you to construct a linear regression model:\n",
        "* Named `lin_reg`\n",
        "* Train the model on the data provided in order to predict the battery life as a linear function of the temperature \n",
        "\n",
        "**POINTS** \n",
        "* Initializing and defining `lin_reg`, using sklearn.linear_model.LinearRegression: 2 points\n",
        "* Correctly training the model to fit the data: 3 points"
      ]
    },
    {
      "cell_type": "code",
      "execution_count": 2,
      "metadata": {
        "id": "cu3CepQ-ZUk7"
      },
      "outputs": [],
      "source": [
        "# DO NOT CHANGE\n",
        "import numpy as np\n",
        "from sklearn.linear_model import LinearRegression"
      ]
    },
    {
      "cell_type": "code",
      "execution_count": 3,
      "metadata": {
        "id": "dpR7fJRSeqaS"
      },
      "outputs": [],
      "source": [
        "# DO NOT CHANGE\n",
        "temperature = np.array([10, 20, 30, 40, 50, 60, 70, 80, 90]).reshape(-1,1)\n",
        "battery_life = np.array([421, 365, 285, 220, 176, 117, 68, 34, 5]).reshape(-1,1)"
      ]
    },
    {
      "cell_type": "code",
      "execution_count": 6,
      "metadata": {
        "id": "yPi8IiOBLZg-"
      },
      "outputs": [],
      "source": [
        "lin_reg = LinearRegression()"
      ]
    },
    {
      "cell_type": "code",
      "execution_count": 10,
      "metadata": {
        "id": "f1X0M3JueqzC",
        "outputId": "dd9e6011-2a69-4a56-c109-d9177aba3968",
        "colab": {
          "base_uri": "https://localhost:8080/"
        }
      },
      "outputs": [
        {
          "output_type": "execute_result",
          "data": {
            "text/plain": [
              "LinearRegression()"
            ]
          },
          "metadata": {},
          "execution_count": 10
        }
      ],
      "source": [
        "### BEGIN SOLUTION\n",
        "# Train the model using the training sets\n",
        "lin_reg.fit(temperature.reshape(-1, 1), battery_life)\n",
        "### END SOLUTION"
      ]
    },
    {
      "cell_type": "code",
      "execution_count": 11,
      "metadata": {
        "id": "hem9F6skLZhA"
      },
      "outputs": [],
      "source": [
        "# DO NOT CHANGE\n",
        "answers.Q1 = lin_reg"
      ]
    },
    {
      "cell_type": "markdown",
      "metadata": {
        "id": "Nob6YBtTjpLL",
        "trusted": true,
        "editable": false,
        "deletable": false
      },
      "source": [
        "# Question 2 (2 points)\n",
        "\n",
        "Now we would like to know the parameters (intercept $\\beta_0$ and coefficient $\\beta_1$) of the fitted regression model. Extract these from the model `lin_reg` and provide the following parameter values:\n",
        "* `intercept`: representing the intercept/constant $\\beta_0$ (represents the expected response when $x=0$)\n",
        "* `coefficient`: representing the coefficient/slope $\\beta_1$ (represents the relationship between $x$ and $y$)\n",
        "\n",
        "**POINTS** \n",
        "* Extracting correct intercept: 1 point\n",
        "* Extracting correct coefficient: 1 point\n"
      ]
    },
    {
      "cell_type": "code",
      "execution_count": 12,
      "metadata": {
        "id": "NNPO53oBZiQs",
        "scrolled": true
      },
      "outputs": [],
      "source": [
        "intercept = lin_reg.intercept_"
      ]
    },
    {
      "cell_type": "code",
      "execution_count": 13,
      "metadata": {
        "id": "TZVd_DHbvMlh"
      },
      "outputs": [],
      "source": [
        "coefficient = lin_reg.coef_"
      ]
    },
    {
      "cell_type": "code",
      "execution_count": 14,
      "metadata": {
        "id": "ftVcxEi0LZhB"
      },
      "outputs": [],
      "source": [
        "### BEGIN SOLUTION\n",
        "### END SOLUTION"
      ]
    },
    {
      "cell_type": "code",
      "execution_count": 15,
      "metadata": {
        "id": "VoaFPxf7LZhC"
      },
      "outputs": [],
      "source": [
        "# DO NOT CHANGE\n",
        "answers.Q2 = [intercept, coefficient]"
      ]
    },
    {
      "cell_type": "markdown",
      "metadata": {
        "id": "q81qI_9bvX6d",
        "trusted": true,
        "editable": false,
        "deletable": false
      },
      "source": [
        "# Question 3 (3 points)\n",
        "\n",
        "\n",
        "Now we use our linear regression model to estimate the battery life at room temperature (25 degrees celcius). Use the model to derive this estimation\n",
        "* Named `lifetime_at_25`\n",
        "\n",
        "**POINTS** \n",
        "* Extracting correct estimate: 3 points"
      ]
    },
    {
      "cell_type": "code",
      "execution_count": 20,
      "metadata": {
        "id": "uxtAenzgvXE2",
        "outputId": "47b00833-8449-46cf-82fc-c914c3d238ad",
        "colab": {
          "base_uri": "https://localhost:8080/"
        }
      },
      "outputs": [
        {
          "output_type": "stream",
          "name": "stdout",
          "text": [
            "[[320.97222222]]\n"
          ]
        }
      ],
      "source": [
        "lifetime_at_25 = intercept + coefficient * 25\n",
        "print(lifetime_at_25)"
      ]
    },
    {
      "cell_type": "code",
      "execution_count": 18,
      "metadata": {
        "id": "pTeDYNfpvXCe",
        "outputId": "b46ff3ea-2eae-4a09-b073-34eb26eef695",
        "colab": {
          "base_uri": "https://localhost:8080/"
        }
      },
      "outputs": [
        {
          "output_type": "execute_result",
          "data": {
            "text/plain": [
              "array([[320.97222222]])"
            ]
          },
          "metadata": {},
          "execution_count": 18
        }
      ],
      "source": [
        "### BEGIN SOLUTION\n",
        "lin_reg.predict(np.array([25]).reshape(-1,1))\n",
        "### END SOLUTION"
      ]
    },
    {
      "cell_type": "code",
      "execution_count": 21,
      "metadata": {
        "id": "ImDl6wFqLZhD"
      },
      "outputs": [],
      "source": [
        "# DO NOT CHANGE\n",
        "answers.Q3 = lifetime_at_25"
      ]
    },
    {
      "cell_type": "markdown",
      "metadata": {
        "id": "rYVkGM8MkJZL",
        "trusted": true,
        "editable": false,
        "deletable": false
      },
      "source": [
        "## ***Optional***: we can plot our results to visualize the linear regression"
      ]
    },
    {
      "cell_type": "code",
      "execution_count": 22,
      "metadata": {
        "id": "HQh8Lz3nZj14",
        "outputId": "57fce206-c4f9-4883-94fc-36e3e3641c99",
        "colab": {
          "base_uri": "https://localhost:8080/"
        }
      },
      "outputs": [
        {
          "output_type": "execute_result",
          "data": {
            "text/plain": [
              "array([[400.82222222],\n",
              "       [347.58888889],\n",
              "       [294.35555556],\n",
              "       [241.12222222],\n",
              "       [187.88888889],\n",
              "       [134.65555556],\n",
              "       [ 81.42222222],\n",
              "       [ 28.18888889],\n",
              "       [-25.04444444]])"
            ]
          },
          "metadata": {},
          "execution_count": 22
        }
      ],
      "source": [
        "x_pred = np.array([10, 20, 30, 40, 50, 60, 70, 80, 90]).reshape(-1,1)\n",
        "y_pred = lin_reg.predict(x_pred)\n",
        "y_pred"
      ]
    },
    {
      "cell_type": "code",
      "execution_count": 23,
      "metadata": {
        "id": "EFrvl8PkZk0t",
        "outputId": "1ab449ad-bf71-4e76-af9c-e0f2dabca69b",
        "colab": {
          "base_uri": "https://localhost:8080/",
          "height": 279
        }
      },
      "outputs": [
        {
          "output_type": "display_data",
          "data": {
            "text/plain": [
              "<Figure size 432x288 with 1 Axes>"
            ],
            "image/png": "[encoded data removed]"
          },
          "metadata": {
            "needs_background": "light"
          }
        }
      ],
      "source": [
        "import matplotlib.pyplot as plt\n",
        "\n",
        "plt.xlabel(\"temperature\")\n",
        "plt.ylabel(\"battery life\")\n",
        "plt.scatter(temperature, battery_life, color=\"blue\", label=\"data\")\n",
        "plt.plot(x_pred, y_pred, color=\"red\", label=\"prediction\")\n",
        "plt.legend()\n",
        "plt.show()"
      ]
    }
  ]
}